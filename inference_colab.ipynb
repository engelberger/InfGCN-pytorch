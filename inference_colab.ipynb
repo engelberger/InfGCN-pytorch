{
  "cells": [
    {
      "cell_type": "markdown",
      "metadata": {
        "id": "view-in-github",
        "colab_type": "text"
      },
      "source": [
        "<a href=\"https://colab.research.google.com/github/engelberger/InfGCN-pytorch/blob/main/inference_colab.ipynb\" target=\"_parent\"><img src=\"https://colab.research.google.com/assets/colab-badge.svg\" alt=\"Open In Colab\"/></a>"
      ]
    },
    {
      "cell_type": "code",
      "execution_count": 1,
      "id": "a54ba4fc-e834-4631-8afd-bbd29f9ce6f4",
      "metadata": {
        "id": "a54ba4fc-e834-4631-8afd-bbd29f9ce6f4"
      },
      "outputs": [],
      "source": [
        "%load_ext autoreload\n",
        "%autoreload 2"
      ]
    },
    {
      "cell_type": "code",
      "source": [
        "%pip install -q lz4\n",
        "%pip install -q e3nn==0.5.1\n",
        "%pip install -q torch==1.13.1\n",
        "%pip install -q torchvision==0.14.1"
      ],
      "metadata": {
        "id": "eK1ELy8kX8r7"
      },
      "id": "eK1ELy8kX8r7",
      "execution_count": 2,
      "outputs": []
    },
    {
      "cell_type": "code",
      "source": [
        "%pip install torch-scatter -f https://data.pyg.org/whl/torch-2.3.0+121.html\n",
        "\n",
        "%pip install torch-cluster==1.6.3\n",
        "%pip install torch-geometric==2.2.0"
      ],
      "metadata": {
        "id": "zJfYXa0TaM3r",
        "outputId": "368f83a4-a115-40e2-f4e8-bfbbfc66f198",
        "colab": {
          "base_uri": "https://localhost:8080/"
        }
      },
      "id": "zJfYXa0TaM3r",
      "execution_count": 3,
      "outputs": [
        {
          "output_type": "stream",
          "name": "stdout",
          "text": [
            "Looking in links: https://data.pyg.org/whl/torch-2.3.0+121.html\n",
            "Collecting torch-scatter\n",
            "  Using cached torch_scatter-2.1.2.tar.gz (108 kB)\n",
            "  Preparing metadata (setup.py) ... \u001b[?25l\u001b[?25hdone\n",
            "Building wheels for collected packages: torch-scatter\n",
            "  \u001b[1;31merror\u001b[0m: \u001b[1msubprocess-exited-with-error\u001b[0m\n",
            "  \n",
            "  \u001b[31m×\u001b[0m \u001b[32mpython setup.py bdist_wheel\u001b[0m did not run successfully.\n",
            "  \u001b[31m│\u001b[0m exit code: \u001b[1;36m1\u001b[0m\n",
            "  \u001b[31m╰─>\u001b[0m See above for output.\n",
            "  \n",
            "  \u001b[1;35mnote\u001b[0m: This error originates from a subprocess, and is likely not a problem with pip.\n",
            "  Building wheel for torch-scatter (setup.py) ... \u001b[?25lerror\n",
            "\u001b[31m  ERROR: Failed building wheel for torch-scatter\u001b[0m\u001b[31m\n",
            "\u001b[0m\u001b[?25h  Running setup.py clean for torch-scatter\n",
            "Failed to build torch-scatter\n",
            "\u001b[31mERROR: Could not build wheels for torch-scatter, which is required to install pyproject.toml-based projects\u001b[0m\u001b[31m\n",
            "\u001b[0mCollecting torch-cluster==1.6.3\n",
            "  Using cached torch_cluster-1.6.3.tar.gz (54 kB)\n",
            "  Preparing metadata (setup.py) ... \u001b[?25l\u001b[?25hdone\n",
            "Requirement already satisfied: scipy in /usr/local/lib/python3.10/dist-packages (from torch-cluster==1.6.3) (1.11.4)\n",
            "Requirement already satisfied: numpy<1.28.0,>=1.21.6 in /usr/local/lib/python3.10/dist-packages (from scipy->torch-cluster==1.6.3) (1.25.2)\n",
            "Building wheels for collected packages: torch-cluster\n",
            "  \u001b[1;31merror\u001b[0m: \u001b[1msubprocess-exited-with-error\u001b[0m\n",
            "  \n",
            "  \u001b[31m×\u001b[0m \u001b[32mpython setup.py bdist_wheel\u001b[0m did not run successfully.\n",
            "  \u001b[31m│\u001b[0m exit code: \u001b[1;36m1\u001b[0m\n",
            "  \u001b[31m╰─>\u001b[0m See above for output.\n",
            "  \n",
            "  \u001b[1;35mnote\u001b[0m: This error originates from a subprocess, and is likely not a problem with pip.\n",
            "  Building wheel for torch-cluster (setup.py) ... \u001b[?25lerror\n",
            "\u001b[31m  ERROR: Failed building wheel for torch-cluster\u001b[0m\u001b[31m\n",
            "\u001b[0m\u001b[?25h  Running setup.py clean for torch-cluster\n",
            "Failed to build torch-cluster\n",
            "\u001b[31mERROR: Could not build wheels for torch-cluster, which is required to install pyproject.toml-based projects\u001b[0m\u001b[31m\n",
            "\u001b[0mRequirement already satisfied: torch-geometric==2.2.0 in /usr/local/lib/python3.10/dist-packages (2.2.0)\n",
            "Requirement already satisfied: tqdm in /usr/local/lib/python3.10/dist-packages (from torch-geometric==2.2.0) (4.66.4)\n",
            "Requirement already satisfied: numpy in /usr/local/lib/python3.10/dist-packages (from torch-geometric==2.2.0) (1.25.2)\n",
            "Requirement already satisfied: scipy in /usr/local/lib/python3.10/dist-packages (from torch-geometric==2.2.0) (1.11.4)\n",
            "Requirement already satisfied: jinja2 in /usr/local/lib/python3.10/dist-packages (from torch-geometric==2.2.0) (3.1.4)\n",
            "Requirement already satisfied: requests in /usr/local/lib/python3.10/dist-packages (from torch-geometric==2.2.0) (2.31.0)\n",
            "Requirement already satisfied: pyparsing in /usr/local/lib/python3.10/dist-packages (from torch-geometric==2.2.0) (3.1.2)\n",
            "Requirement already satisfied: scikit-learn in /usr/local/lib/python3.10/dist-packages (from torch-geometric==2.2.0) (1.2.2)\n",
            "Requirement already satisfied: psutil>=5.8.0 in /usr/local/lib/python3.10/dist-packages (from torch-geometric==2.2.0) (5.9.5)\n",
            "Requirement already satisfied: MarkupSafe>=2.0 in /usr/local/lib/python3.10/dist-packages (from jinja2->torch-geometric==2.2.0) (2.1.5)\n",
            "Requirement already satisfied: charset-normalizer<4,>=2 in /usr/local/lib/python3.10/dist-packages (from requests->torch-geometric==2.2.0) (3.3.2)\n",
            "Requirement already satisfied: idna<4,>=2.5 in /usr/local/lib/python3.10/dist-packages (from requests->torch-geometric==2.2.0) (3.7)\n",
            "Requirement already satisfied: urllib3<3,>=1.21.1 in /usr/local/lib/python3.10/dist-packages (from requests->torch-geometric==2.2.0) (2.0.7)\n",
            "Requirement already satisfied: certifi>=2017.4.17 in /usr/local/lib/python3.10/dist-packages (from requests->torch-geometric==2.2.0) (2024.6.2)\n",
            "Requirement already satisfied: joblib>=1.1.1 in /usr/local/lib/python3.10/dist-packages (from scikit-learn->torch-geometric==2.2.0) (1.4.2)\n",
            "Requirement already satisfied: threadpoolctl>=2.0.0 in /usr/local/lib/python3.10/dist-packages (from scikit-learn->torch-geometric==2.2.0) (3.5.0)\n"
          ]
        }
      ]
    },
    {
      "cell_type": "code",
      "source": [
        "!git clone https://github.com/engelberger/InfGCN-pytorch.git\n",
        "%cd InfGCN-pytorch\n",
        "%pip install -q -r requirements.txt"
      ],
      "metadata": {
        "id": "s2qqn8TUYQOt",
        "outputId": "328fe716-b10b-489a-e3c4-a2ab12a95a18",
        "colab": {
          "base_uri": "https://localhost:8080/"
        }
      },
      "id": "s2qqn8TUYQOt",
      "execution_count": 4,
      "outputs": [
        {
          "output_type": "stream",
          "name": "stdout",
          "text": [
            "fatal: destination path 'InfGCN-pytorch' already exists and is not an empty directory.\n",
            "/content/InfGCN-pytorch\n",
            "  Preparing metadata (setup.py) ... \u001b[?25l\u001b[?25hdone\n",
            "  Preparing metadata (setup.py) ... \u001b[?25l\u001b[?25hdone\n",
            "\u001b[2K     \u001b[90m━━━━━━━━━━━━━━━━━━━━━━━━━━━━━━━━━━━━━━━━\u001b[0m \u001b[32m17.1/17.1 MB\u001b[0m \u001b[31m32.1 MB/s\u001b[0m eta \u001b[36m0:00:00\u001b[0m\n",
            "\u001b[2K     \u001b[90m━━━━━━━━━━━━━━━━━━━━━━━━━━━━━━━━━━━━━━━━\u001b[0m \u001b[32m33.7/33.7 MB\u001b[0m \u001b[31m20.0 MB/s\u001b[0m eta \u001b[36m0:00:00\u001b[0m\n",
            "\u001b[2K     \u001b[90m━━━━━━━━━━━━━━━━━━━━━━━━━━━━━━━━━━━━━━━━\u001b[0m \u001b[32m3.3/3.3 MB\u001b[0m \u001b[31m35.4 MB/s\u001b[0m eta \u001b[36m0:00:00\u001b[0m\n",
            "\u001b[2K     \u001b[90m━━━━━━━━━━━━━━━━━━━━━━━━━━━━━━━━━━━━━━━━\u001b[0m \u001b[32m11.8/11.8 MB\u001b[0m \u001b[31m59.0 MB/s\u001b[0m eta \u001b[36m0:00:00\u001b[0m\n",
            "\u001b[2K     \u001b[90m━━━━━━━━━━━━━━━━━━━━━━━━━━━━━━━━━━━━━━━━\u001b[0m \u001b[32m78.5/78.5 kB\u001b[0m \u001b[31m10.0 MB/s\u001b[0m eta \u001b[36m0:00:00\u001b[0m\n",
            "\u001b[2K     \u001b[90m━━━━━━━━━━━━━━━━━━━━━━━━━━━━━━━━━━━━━━━━\u001b[0m \u001b[32m1.2/1.2 MB\u001b[0m \u001b[31m10.8 MB/s\u001b[0m eta \u001b[36m0:00:00\u001b[0m\n",
            "\u001b[2K     \u001b[90m━━━━━━━━━━━━━━━━━━━━━━━━━━━━━━━━━━━━━━━━\u001b[0m \u001b[32m682.2/682.2 kB\u001b[0m \u001b[31m15.6 MB/s\u001b[0m eta \u001b[36m0:00:00\u001b[0m\n",
            "\u001b[?25h  Preparing metadata (setup.py) ... \u001b[?25l\u001b[?25hdone\n",
            "\u001b[2K     \u001b[90m━━━━━━━━━━━━━━━━━━━━━━━━━━━━━━━━━━━━━━━━\u001b[0m \u001b[32m6.0/6.0 MB\u001b[0m \u001b[31m43.9 MB/s\u001b[0m eta \u001b[36m0:00:00\u001b[0m\n",
            "\u001b[2K     \u001b[90m━━━━━━━━━━━━━━━━━━━━━━━━━━━━━━━━━━━━━━━━\u001b[0m \u001b[32m8.8/8.8 MB\u001b[0m \u001b[31m103.4 MB/s\u001b[0m eta \u001b[36m0:00:00\u001b[0m\n",
            "\u001b[2K     \u001b[90m━━━━━━━━━━━━━━━━━━━━━━━━━━━━━━━━━━━━━━━━\u001b[0m \u001b[32m15.3/15.3 MB\u001b[0m \u001b[31m90.5 MB/s\u001b[0m eta \u001b[36m0:00:00\u001b[0m\n",
            "\u001b[2K     \u001b[90m━━━━━━━━━━━━━━━━━━━━━━━━━━━━━━━━━━━━━━━━\u001b[0m \u001b[32m79.9/79.9 MB\u001b[0m \u001b[31m9.8 MB/s\u001b[0m eta \u001b[36m0:00:00\u001b[0m\n",
            "\u001b[2K     \u001b[90m━━━━━━━━━━━━━━━━━━━━━━━━━━━━━━━━━━━━━━━━\u001b[0m \u001b[32m4.9/4.9 MB\u001b[0m \u001b[31m76.6 MB/s\u001b[0m eta \u001b[36m0:00:00\u001b[0m\n",
            "\u001b[2K     \u001b[90m━━━━━━━━━━━━━━━━━━━━━━━━━━━━━━━━━━━━━━━━\u001b[0m \u001b[32m781.3/781.3 kB\u001b[0m \u001b[31m27.9 MB/s\u001b[0m eta \u001b[36m0:00:00\u001b[0m\n",
            "\u001b[2K     \u001b[90m━━━━━━━━━━━━━━━━━━━━━━━━━━━━━━━━━━━━━━━━\u001b[0m \u001b[32m59.4/59.4 kB\u001b[0m \u001b[31m6.6 MB/s\u001b[0m eta \u001b[36m0:00:00\u001b[0m\n",
            "\u001b[2K     \u001b[90m━━━━━━━━━━━━━━━━━━━━━━━━━━━━━━━━━━━━━━━━\u001b[0m \u001b[32m1.6/1.6 MB\u001b[0m \u001b[31m68.6 MB/s\u001b[0m eta \u001b[36m0:00:00\u001b[0m\n",
            "\u001b[?25h  \u001b[1;31merror\u001b[0m: \u001b[1msubprocess-exited-with-error\u001b[0m\n",
            "  \n",
            "  \u001b[31m×\u001b[0m \u001b[32mpython setup.py bdist_wheel\u001b[0m did not run successfully.\n",
            "  \u001b[31m│\u001b[0m exit code: \u001b[1;36m1\u001b[0m\n",
            "  \u001b[31m╰─>\u001b[0m See above for output.\n",
            "  \n",
            "  \u001b[1;35mnote\u001b[0m: This error originates from a subprocess, and is likely not a problem with pip.\n",
            "  Building wheel for torch-scatter (setup.py) ... \u001b[?25lerror\n",
            "\u001b[31m  ERROR: Failed building wheel for torch-scatter\u001b[0m\u001b[31m\n",
            "\u001b[0m  \u001b[1;31merror\u001b[0m: \u001b[1msubprocess-exited-with-error\u001b[0m\n",
            "  \n",
            "  \u001b[31m×\u001b[0m \u001b[32mpython setup.py bdist_wheel\u001b[0m did not run successfully.\n",
            "  \u001b[31m│\u001b[0m exit code: \u001b[1;36m1\u001b[0m\n",
            "  \u001b[31m╰─>\u001b[0m See above for output.\n",
            "  \n",
            "  \u001b[1;35mnote\u001b[0m: This error originates from a subprocess, and is likely not a problem with pip.\n",
            "\u001b[?25h  Building wheel for torch-cluster (setup.py) ... \u001b[?25lerror\n",
            "\u001b[31m  ERROR: Failed building wheel for torch-cluster\u001b[0m\u001b[31m\n",
            "\u001b[0m\u001b[?25h  Building wheel for easydict (setup.py) ... \u001b[?25l\u001b[?25hdone\n",
            "\u001b[31mERROR: Could not build wheels for torch-scatter, torch-cluster, which is required to install pyproject.toml-based projects\u001b[0m\u001b[31m\n",
            "\u001b[0m"
          ]
        }
      ]
    },
    {
      "cell_type": "markdown",
      "source": [
        "# Inference with InfGCN\n",
        "\n",
        "By Chaoran Cheng, Oct 1, 2023\n"
      ],
      "metadata": {
        "collapsed": false,
        "id": "5415fb576f6fd3dd"
      },
      "id": "5415fb576f6fd3dd"
    },
    {
      "cell_type": "code",
      "execution_count": 5,
      "id": "2c141573-27b2-4b48-b1ab-8bb674b84a3d",
      "metadata": {
        "id": "2c141573-27b2-4b48-b1ab-8bb674b84a3d",
        "outputId": "e7bcb896-071a-423b-aeaf-d27b76ae42ab",
        "colab": {
          "base_uri": "https://localhost:8080/",
          "height": 557
        }
      },
      "outputs": [
        {
          "output_type": "error",
          "ename": "ModuleNotFoundError",
          "evalue": "No module named 'torch_sparse'",
          "traceback": [
            "\u001b[0;31m---------------------------------------------------------------------------\u001b[0m",
            "\u001b[0;31mModuleNotFoundError\u001b[0m                       Traceback (most recent call last)",
            "\u001b[0;32m<ipython-input-5-f2c217207bd7>\u001b[0m in \u001b[0;36m<cell line: 9>\u001b[0;34m()\u001b[0m\n\u001b[1;32m      7\u001b[0m \u001b[0;32mfrom\u001b[0m \u001b[0mIPython\u001b[0m\u001b[0;34m.\u001b[0m\u001b[0mdisplay\u001b[0m \u001b[0;32mimport\u001b[0m \u001b[0mImage\u001b[0m\u001b[0;34m,\u001b[0m \u001b[0mdisplay\u001b[0m\u001b[0;34m\u001b[0m\u001b[0;34m\u001b[0m\u001b[0m\n\u001b[1;32m      8\u001b[0m \u001b[0;34m\u001b[0m\u001b[0m\n\u001b[0;32m----> 9\u001b[0;31m \u001b[0;32mfrom\u001b[0m \u001b[0mdatasets\u001b[0m \u001b[0;32mimport\u001b[0m \u001b[0mDensityDataset\u001b[0m\u001b[0;34m\u001b[0m\u001b[0;34m\u001b[0m\u001b[0m\n\u001b[0m\u001b[1;32m     10\u001b[0m \u001b[0;32mfrom\u001b[0m \u001b[0mmodels\u001b[0m \u001b[0;32mimport\u001b[0m \u001b[0mget_model\u001b[0m\u001b[0;34m\u001b[0m\u001b[0;34m\u001b[0m\u001b[0m\n\u001b[1;32m     11\u001b[0m \u001b[0;32mfrom\u001b[0m \u001b[0mutils\u001b[0m \u001b[0;32mimport\u001b[0m \u001b[0mload_config\u001b[0m\u001b[0;34m\u001b[0m\u001b[0;34m\u001b[0m\u001b[0m\n",
            "\u001b[0;32m/content/InfGCN-pytorch/datasets/__init__.py\u001b[0m in \u001b[0;36m<module>\u001b[0;34m\u001b[0m\n\u001b[1;32m      5\u001b[0m \u001b[0;32mfrom\u001b[0m \u001b[0mtorch\u001b[0m\u001b[0;34m.\u001b[0m\u001b[0mnn\u001b[0m\u001b[0;34m.\u001b[0m\u001b[0mutils\u001b[0m\u001b[0;34m.\u001b[0m\u001b[0mrnn\u001b[0m \u001b[0;32mimport\u001b[0m \u001b[0mpad_sequence\u001b[0m\u001b[0;34m\u001b[0m\u001b[0;34m\u001b[0m\u001b[0m\n\u001b[1;32m      6\u001b[0m \u001b[0;32mimport\u001b[0m \u001b[0mnumpy\u001b[0m \u001b[0;32mas\u001b[0m \u001b[0mnp\u001b[0m\u001b[0;34m\u001b[0m\u001b[0;34m\u001b[0m\u001b[0m\n\u001b[0;32m----> 7\u001b[0;31m \u001b[0;32mfrom\u001b[0m \u001b[0mtorch_geometric\u001b[0m\u001b[0;34m.\u001b[0m\u001b[0mdata\u001b[0m \u001b[0;32mimport\u001b[0m \u001b[0mBatch\u001b[0m\u001b[0;34m\u001b[0m\u001b[0;34m\u001b[0m\u001b[0m\n\u001b[0m\u001b[1;32m      8\u001b[0m \u001b[0;34m\u001b[0m\u001b[0m\n\u001b[1;32m      9\u001b[0m \u001b[0;32mfrom\u001b[0m \u001b[0;34m.\u001b[0m\u001b[0m_base\u001b[0m \u001b[0;32mimport\u001b[0m \u001b[0mget_dataset\u001b[0m\u001b[0;34m,\u001b[0m \u001b[0mregister_dataset\u001b[0m\u001b[0;34m\u001b[0m\u001b[0;34m\u001b[0m\u001b[0m\n",
            "\u001b[0;32m/usr/local/lib/python3.10/dist-packages/torch_geometric/__init__.py\u001b[0m in \u001b[0;36m<module>\u001b[0;34m\u001b[0m\n\u001b[1;32m      2\u001b[0m \u001b[0;32mfrom\u001b[0m \u001b[0mimportlib\u001b[0m \u001b[0;32mimport\u001b[0m \u001b[0mimport_module\u001b[0m\u001b[0;34m\u001b[0m\u001b[0;34m\u001b[0m\u001b[0m\n\u001b[1;32m      3\u001b[0m \u001b[0;34m\u001b[0m\u001b[0m\n\u001b[0;32m----> 4\u001b[0;31m \u001b[0;32mimport\u001b[0m \u001b[0mtorch_geometric\u001b[0m\u001b[0;34m.\u001b[0m\u001b[0mdata\u001b[0m\u001b[0;34m\u001b[0m\u001b[0;34m\u001b[0m\u001b[0m\n\u001b[0m\u001b[1;32m      5\u001b[0m \u001b[0;32mimport\u001b[0m \u001b[0mtorch_geometric\u001b[0m\u001b[0;34m.\u001b[0m\u001b[0mloader\u001b[0m\u001b[0;34m\u001b[0m\u001b[0;34m\u001b[0m\u001b[0m\n\u001b[1;32m      6\u001b[0m \u001b[0;32mimport\u001b[0m \u001b[0mtorch_geometric\u001b[0m\u001b[0;34m.\u001b[0m\u001b[0mtransforms\u001b[0m\u001b[0;34m\u001b[0m\u001b[0;34m\u001b[0m\u001b[0m\n",
            "\u001b[0;32m/usr/local/lib/python3.10/dist-packages/torch_geometric/data/__init__.py\u001b[0m in \u001b[0;36m<module>\u001b[0;34m\u001b[0m\n\u001b[0;32m----> 1\u001b[0;31m \u001b[0;32mfrom\u001b[0m \u001b[0;34m.\u001b[0m\u001b[0mdata\u001b[0m \u001b[0;32mimport\u001b[0m \u001b[0mData\u001b[0m\u001b[0;34m\u001b[0m\u001b[0;34m\u001b[0m\u001b[0m\n\u001b[0m\u001b[1;32m      2\u001b[0m \u001b[0;32mfrom\u001b[0m \u001b[0;34m.\u001b[0m\u001b[0mhetero_data\u001b[0m \u001b[0;32mimport\u001b[0m \u001b[0mHeteroData\u001b[0m\u001b[0;34m\u001b[0m\u001b[0;34m\u001b[0m\u001b[0m\n\u001b[1;32m      3\u001b[0m \u001b[0;32mfrom\u001b[0m \u001b[0;34m.\u001b[0m\u001b[0mtemporal\u001b[0m \u001b[0;32mimport\u001b[0m \u001b[0mTemporalData\u001b[0m\u001b[0;34m\u001b[0m\u001b[0;34m\u001b[0m\u001b[0m\n\u001b[1;32m      4\u001b[0m \u001b[0;32mfrom\u001b[0m \u001b[0;34m.\u001b[0m\u001b[0mbatch\u001b[0m \u001b[0;32mimport\u001b[0m \u001b[0mBatch\u001b[0m\u001b[0;34m\u001b[0m\u001b[0;34m\u001b[0m\u001b[0m\n\u001b[1;32m      5\u001b[0m \u001b[0;32mfrom\u001b[0m \u001b[0;34m.\u001b[0m\u001b[0mdataset\u001b[0m \u001b[0;32mimport\u001b[0m \u001b[0mDataset\u001b[0m\u001b[0;34m\u001b[0m\u001b[0;34m\u001b[0m\u001b[0m\n",
            "\u001b[0;32m/usr/local/lib/python3.10/dist-packages/torch_geometric/data/data.py\u001b[0m in \u001b[0;36m<module>\u001b[0;34m\u001b[0m\n\u001b[1;32m     18\u001b[0m \u001b[0;32mimport\u001b[0m \u001b[0mtorch\u001b[0m\u001b[0;34m\u001b[0m\u001b[0;34m\u001b[0m\u001b[0m\n\u001b[1;32m     19\u001b[0m \u001b[0;32mfrom\u001b[0m \u001b[0mtorch\u001b[0m \u001b[0;32mimport\u001b[0m \u001b[0mTensor\u001b[0m\u001b[0;34m\u001b[0m\u001b[0;34m\u001b[0m\u001b[0m\n\u001b[0;32m---> 20\u001b[0;31m \u001b[0;32mfrom\u001b[0m \u001b[0mtorch_sparse\u001b[0m \u001b[0;32mimport\u001b[0m \u001b[0mSparseTensor\u001b[0m\u001b[0;34m\u001b[0m\u001b[0;34m\u001b[0m\u001b[0m\n\u001b[0m\u001b[1;32m     21\u001b[0m \u001b[0;34m\u001b[0m\u001b[0m\n\u001b[1;32m     22\u001b[0m from torch_geometric.data.feature_store import (\n",
            "\u001b[0;31mModuleNotFoundError\u001b[0m: No module named 'torch_sparse'",
            "",
            "\u001b[0;31m---------------------------------------------------------------------------\u001b[0;32m\nNOTE: If your import is failing due to a missing package, you can\nmanually install dependencies using either !pip or !apt.\n\nTo view examples of installing some common dependencies, click the\n\"Open Examples\" button below.\n\u001b[0;31m---------------------------------------------------------------------------\u001b[0m\n"
          ],
          "errorDetails": {
            "actions": [
              {
                "action": "open_url",
                "actionText": "Open Examples",
                "url": "/notebooks/snippets/importing_libraries.ipynb"
              }
            ]
          }
        }
      ],
      "source": [
        "import os\n",
        "\n",
        "import torch\n",
        "import lz4.frame\n",
        "from tqdm import tqdm\n",
        "import plotly.graph_objects as go\n",
        "from IPython.display import Image, display\n",
        "\n",
        "from datasets import DensityDataset\n",
        "from models import get_model\n",
        "from utils import load_config\n",
        "\n",
        "os.environ['CUDA_VISIBLE_DEVICES'] = '0'\n",
        "device = torch.device('cuda')"
      ]
    },
    {
      "cell_type": "code",
      "execution_count": null,
      "id": "8ac8de4f-e748-464d-a86c-3bd9a27dd684",
      "metadata": {
        "id": "8ac8de4f-e748-464d-a86c-3bd9a27dd684"
      },
      "outputs": [],
      "source": [
        "# Set to True to generate static figures\n",
        "# Set to False to generate interactive figures\n",
        "# WARNING: Interactive figures significantly increase the notebook size\n",
        "static_fig = True"
      ]
    },
    {
      "cell_type": "code",
      "execution_count": null,
      "id": "ae24d2a5-da97-4561-a1dc-e740589a80ed",
      "metadata": {
        "id": "ae24d2a5-da97-4561-a1dc-e740589a80ed"
      },
      "outputs": [],
      "source": [
        "def get_pretrained_model(cfg_path, model_path):\n",
        "    print(f'Loading config from {cfg_path}')\n",
        "    cfg = load_config(cfg_path)\n",
        "    model = get_model(cfg.model).to(device)\n",
        "    print(f'Loading model from {model_path}')\n",
        "    ckpt = torch.load(model_path, map_location=device)\n",
        "    model.load_state_dict(ckpt['model'])\n",
        "    return model"
      ]
    },
    {
      "cell_type": "code",
      "execution_count": null,
      "id": "27a59f8b-c4eb-4cd1-93e1-00c3eec5f626",
      "metadata": {
        "id": "27a59f8b-c4eb-4cd1-93e1-00c3eec5f626"
      },
      "outputs": [],
      "source": [
        "def inference_model(model, g, density, grid_coord, infos, grid_batch_size=8196):\n",
        "    with torch.no_grad():\n",
        "        model.eval()\n",
        "        if grid_batch_size is None:\n",
        "            preds = model(g.x, g.pos, grid_coord, g.batch, infos).squeeze(0)\n",
        "        else:\n",
        "            preds = []\n",
        "            for grid in tqdm(grid_coord.split(grid_batch_size, dim=1)):\n",
        "                preds.append(model(g.x, g.pos, grid.contiguous(), g.batch, infos).squeeze(0))\n",
        "            preds = torch.cat(preds, dim=0)\n",
        "        diff = torch.abs(preds - density)\n",
        "        loss = diff.pow(2).sum()\n",
        "        mae = diff.sum() / density.sum()\n",
        "    return preds, loss, mae"
      ]
    },
    {
      "cell_type": "code",
      "execution_count": null,
      "id": "ca107aa5-f37e-49cd-953d-c6de5f07dde4",
      "metadata": {
        "id": "ca107aa5-f37e-49cd-953d-c6de5f07dde4"
      },
      "outputs": [],
      "source": [
        "def draw_volume(grid, density, atom_type, atom_coord, isomin=0.05, isomax=None, surface_count=5, title=None):\n",
        "    atom_colorscale = ['grey', 'white', 'red', 'blue', 'green']\n",
        "    fig = go.Figure()\n",
        "    fig.add_trace(go.Volume(\n",
        "        x=grid[..., 0], y=grid[..., 1], z=grid[..., 2],\n",
        "        value=density,\n",
        "        isomin=isomin,\n",
        "        isomax=isomax,\n",
        "        opacity=0.1, # needs to be small to see through all surfaces\n",
        "        surface_count=surface_count, # needs to be a large number for good volume rendering\n",
        "        caps=dict(x_show=False, y_show=False, z_show=False),\n",
        "    ))\n",
        "    axis_dict = dict(\n",
        "        showgrid=False,\n",
        "        showbackground=False,\n",
        "        zeroline=False,\n",
        "        visible=False,\n",
        "    )\n",
        "    fig.add_trace(go.Scatter3d(\n",
        "        x=atom_coord[:, 0],\n",
        "        y=atom_coord[:, 1],\n",
        "        z=atom_coord[:, 2],\n",
        "        mode='markers',\n",
        "        marker=dict(\n",
        "            size=10,\n",
        "            color=atom_type,\n",
        "            cmin=0, cmax=4,\n",
        "            colorscale=atom_colorscale,\n",
        "            opacity=0.6\n",
        "        )\n",
        "    ))\n",
        "    if title is not None:\n",
        "        title = dict(\n",
        "            text=title,\n",
        "            x=0.5, y=0.3,\n",
        "            xanchor='center',\n",
        "            yanchor='bottom',\n",
        "        )\n",
        "    fig.update_layout(\n",
        "        autosize=False,\n",
        "        width=800,\n",
        "        height=800,\n",
        "        showlegend=False,\n",
        "        scene=dict(\n",
        "            xaxis=axis_dict,\n",
        "            yaxis=axis_dict,\n",
        "            zaxis=axis_dict\n",
        "        ),\n",
        "        title=title,\n",
        "        title_font_family='Times New Roman',\n",
        "    )\n",
        "    return fig"
      ]
    },
    {
      "cell_type": "code",
      "execution_count": null,
      "id": "541ef0ec-4a19-48d9-919a-270b80f6771c",
      "metadata": {
        "id": "541ef0ec-4a19-48d9-919a-270b80f6771c"
      },
      "outputs": [],
      "source": [
        "# Load the dataset\n",
        "# If you want to run the pretrained model, you can make a dummy data split file like\n",
        "# {\"train\": [], \"val\": [], \"test\": []}\n",
        "dataset = DensityDataset('data/QM9', 'test', 'data_split.json', './atom_info/qm9.json', 'CHGCAR', 'lz4')"
      ]
    },
    {
      "cell_type": "code",
      "execution_count": null,
      "id": "8da3ce0e-d345-4cda-b736-b1c0971184ec",
      "metadata": {
        "id": "8da3ce0e-d345-4cda-b736-b1c0971184ec"
      },
      "outputs": [],
      "source": [
        "file_id = 24492  # indole\n",
        "# file_id = 114514  # nonane\n",
        "# file_id = 214  # benzene\n",
        "# file_id = 2  # ammonia\n",
        "with lz4.frame.open(f'data/QM9/{file_id:06d}.CHGCAR.lz4') as f:\n",
        "    g, density, grid_coord, info = dataset.read_chgcar(f)\n",
        "\n",
        "g.batch = torch.zeros_like(g.x)\n",
        "g = g.to(device)\n",
        "density = density.to(device)\n",
        "grid_coord = grid_coord.to(device)"
      ]
    },
    {
      "cell_type": "code",
      "execution_count": null,
      "id": "e6733677-726d-4963-ad2c-5947e9e5b585",
      "metadata": {
        "id": "e6733677-726d-4963-ad2c-5947e9e5b585"
      },
      "outputs": [],
      "source": [
        "# Display the ground truth electron density\n",
        "fig = draw_volume(\n",
        "    grid_coord.detach().cpu().numpy(), density.detach().cpu().numpy(),\n",
        "    g.x.detach().cpu().numpy(), g.pos.detach().cpu().numpy(),\n",
        "    isomin=0.05, isomax=3.5, surface_count=5\n",
        ")\n",
        "if static_fig:\n",
        "    img_bytes = fig.to_image(format=\"png\", scale=2)\n",
        "    display(Image(img_bytes))\n",
        "else:\n",
        "    fig.show()"
      ]
    },
    {
      "cell_type": "code",
      "execution_count": null,
      "id": "5e37b691-7d96-4fbd-b93c-8efac1c78cb5",
      "metadata": {
        "id": "5e37b691-7d96-4fbd-b93c-8efac1c78cb5"
      },
      "outputs": [],
      "source": [
        "# Load the pretrained model\n",
        "# There might be a warning from jitting, which arises inside the `e3nn` package.\n",
        "# You can safely ignore it.\n",
        "model = get_pretrained_model('configs/qm9.yml', 'logs/train/40000.pt')\n",
        "print('Complete!')"
      ]
    },
    {
      "cell_type": "code",
      "execution_count": null,
      "id": "565baab1-4f38-48dd-988e-af4c2855eaf3",
      "metadata": {
        "id": "565baab1-4f38-48dd-988e-af4c2855eaf3"
      },
      "outputs": [],
      "source": [
        "# Make prediction\n",
        "# The very first step might be slow (due to jitting in `e3nn`), but the rest should be fast.\n",
        "grid_batch_size = 4096\n",
        "preds, loss, mae = inference_model(\n",
        "    model, g, density, grid_coord[None], [info], grid_batch_size=grid_batch_size\n",
        ")\n",
        "print(f'Loss: {loss.item():.6f}, MAE: {mae.item():.6f}')"
      ]
    },
    {
      "cell_type": "code",
      "execution_count": null,
      "id": "c0030b87-c154-4382-85e5-12b72ba93c29",
      "metadata": {
        "id": "c0030b87-c154-4382-85e5-12b72ba93c29"
      },
      "outputs": [],
      "source": [
        "# Display the electron density difference\n",
        "fig = draw_volume(\n",
        "    grid_coord.detach().cpu().numpy(), (density - preds).detach().cpu().numpy(),\n",
        "    g.x.detach().cpu().numpy(), g.pos.detach().cpu().numpy(), isomin=-0.06, isomax=0.06, surface_count=4\n",
        ")\n",
        "if static_fig:\n",
        "    img_bytes = fig.to_image(format=\"png\", scale=2)\n",
        "    display(Image(img_bytes))\n",
        "else:\n",
        "    fig.show()"
      ]
    },
    {
      "cell_type": "code",
      "execution_count": null,
      "id": "c12e05ac-a05d-43ed-8ae2-6bee0f05c699",
      "metadata": {
        "id": "c12e05ac-a05d-43ed-8ae2-6bee0f05c699"
      },
      "outputs": [],
      "source": [
        "# Display the predicted electron density\n",
        "fig = draw_volume(\n",
        "    grid_coord.detach().cpu().numpy(), preds.detach().cpu().numpy(),\n",
        "    g.x.detach().cpu().numpy(), g.pos.detach().cpu().numpy(), isomin=0.05, isomax=3.5, surface_count=5\n",
        ")\n",
        "if static_fig:\n",
        "    img_bytes = fig.to_image(format=\"png\", scale=2)\n",
        "    display(Image(img_bytes))\n",
        "else:\n",
        "    fig.show()"
      ]
    },
    {
      "cell_type": "code",
      "execution_count": null,
      "id": "4c66740d-1166-4761-886e-adbf1b205a13",
      "metadata": {
        "id": "4c66740d-1166-4761-886e-adbf1b205a13"
      },
      "outputs": [],
      "source": []
    }
  ],
  "metadata": {
    "kernelspec": {
      "display_name": "Python 3",
      "name": "python3"
    },
    "language_info": {
      "codemirror_mode": {
        "name": "ipython",
        "version": 3
      },
      "file_extension": ".py",
      "mimetype": "text/x-python",
      "name": "python",
      "nbconvert_exporter": "python",
      "pygments_lexer": "ipython3",
      "version": "3.9.15"
    },
    "colab": {
      "provenance": [],
      "gpuType": "T4",
      "include_colab_link": true
    },
    "accelerator": "GPU"
  },
  "nbformat": 4,
  "nbformat_minor": 5
}